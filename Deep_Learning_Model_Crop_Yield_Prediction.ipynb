{
  "nbformat": 4,
  "nbformat_minor": 0,
  "metadata": {
    "colab": {
      "provenance": [],
      "authorship_tag": "ABX9TyPUoLlyc2ZCuBlHBub1syGB",
      "include_colab_link": true
    },
    "kernelspec": {
      "name": "python3",
      "display_name": "Python 3"
    },
    "language_info": {
      "name": "python"
    }
  },
  "cells": [
    {
      "cell_type": "markdown",
      "metadata": {
        "id": "view-in-github",
        "colab_type": "text"
      },
      "source": [
        "<a href=\"https://colab.research.google.com/github/SahilLokhande2604/Crop_Yield_Prediction/blob/main/Deep_Learning_Model_Crop_Yield_Prediction.ipynb\" target=\"_parent\"><img src=\"https://colab.research.google.com/assets/colab-badge.svg\" alt=\"Open In Colab\"/></a>"
      ]
    },
    {
      "cell_type": "code",
      "source": [
        "pip install scikeras"
      ],
      "metadata": {
        "colab": {
          "base_uri": "https://localhost:8080/"
        },
        "id": "QuuFAX6_sFNE",
        "outputId": "92386f45-8d6e-4369-f5f9-934c0a6a7124"
      },
      "execution_count": null,
      "outputs": [
        {
          "output_type": "stream",
          "name": "stdout",
          "text": [
            "Collecting scikeras\n",
            "  Downloading scikeras-0.13.0-py3-none-any.whl.metadata (3.1 kB)\n",
            "Requirement already satisfied: keras>=3.2.0 in /usr/local/lib/python3.10/dist-packages (from scikeras) (3.5.0)\n",
            "Requirement already satisfied: scikit-learn>=1.4.2 in /usr/local/lib/python3.10/dist-packages (from scikeras) (1.5.2)\n",
            "Requirement already satisfied: absl-py in /usr/local/lib/python3.10/dist-packages (from keras>=3.2.0->scikeras) (1.4.0)\n",
            "Requirement already satisfied: numpy in /usr/local/lib/python3.10/dist-packages (from keras>=3.2.0->scikeras) (1.26.4)\n",
            "Requirement already satisfied: rich in /usr/local/lib/python3.10/dist-packages (from keras>=3.2.0->scikeras) (13.9.4)\n",
            "Requirement already satisfied: namex in /usr/local/lib/python3.10/dist-packages (from keras>=3.2.0->scikeras) (0.0.8)\n",
            "Requirement already satisfied: h5py in /usr/local/lib/python3.10/dist-packages (from keras>=3.2.0->scikeras) (3.12.1)\n",
            "Requirement already satisfied: optree in /usr/local/lib/python3.10/dist-packages (from keras>=3.2.0->scikeras) (0.13.1)\n",
            "Requirement already satisfied: ml-dtypes in /usr/local/lib/python3.10/dist-packages (from keras>=3.2.0->scikeras) (0.4.1)\n",
            "Requirement already satisfied: packaging in /usr/local/lib/python3.10/dist-packages (from keras>=3.2.0->scikeras) (24.2)\n",
            "Requirement already satisfied: scipy>=1.6.0 in /usr/local/lib/python3.10/dist-packages (from scikit-learn>=1.4.2->scikeras) (1.13.1)\n",
            "Requirement already satisfied: joblib>=1.2.0 in /usr/local/lib/python3.10/dist-packages (from scikit-learn>=1.4.2->scikeras) (1.4.2)\n",
            "Requirement already satisfied: threadpoolctl>=3.1.0 in /usr/local/lib/python3.10/dist-packages (from scikit-learn>=1.4.2->scikeras) (3.5.0)\n",
            "Requirement already satisfied: typing-extensions>=4.5.0 in /usr/local/lib/python3.10/dist-packages (from optree->keras>=3.2.0->scikeras) (4.12.2)\n",
            "Requirement already satisfied: markdown-it-py>=2.2.0 in /usr/local/lib/python3.10/dist-packages (from rich->keras>=3.2.0->scikeras) (3.0.0)\n",
            "Requirement already satisfied: pygments<3.0.0,>=2.13.0 in /usr/local/lib/python3.10/dist-packages (from rich->keras>=3.2.0->scikeras) (2.18.0)\n",
            "Requirement already satisfied: mdurl~=0.1 in /usr/local/lib/python3.10/dist-packages (from markdown-it-py>=2.2.0->rich->keras>=3.2.0->scikeras) (0.1.2)\n",
            "Downloading scikeras-0.13.0-py3-none-any.whl (26 kB)\n",
            "Installing collected packages: scikeras\n",
            "Successfully installed scikeras-0.13.0\n"
          ]
        }
      ]
    },
    {
      "cell_type": "code",
      "source": [
        "import pandas as pd\n",
        "import numpy as np\n",
        "from sklearn.model_selection import train_test_split\n",
        "from sklearn.preprocessing import StandardScaler, OneHotEncoder\n",
        "from sklearn.compose import ColumnTransformer\n",
        "from sklearn.pipeline import Pipeline\n",
        "from sklearn.metrics import mean_squared_error\n",
        "import tensorflow as tf\n",
        "from tensorflow.keras import layers\n",
        "from scikeras.wrappers import KerasRegressor\n",
        "\n",
        "from tensorflow.keras.models import Sequential\n",
        "from tensorflow.keras.layers import Dense, Conv1D, MaxPooling1D, Flatten, Dropout\n",
        "\n",
        "# Load your dataset (replace with actual file path if needed)\n",
        "df = pd.read_csv(\"/content/crop_yield.csv\")\n",
        "\n",
        "# Assuming 'Yield' is your target column, and the rest are features\n",
        "X = df.drop('Yield', axis=1)\n",
        "y = df['Yield']\n",
        "\n",
        "# Split the data\n",
        "X_train, X_test, y_train, y_test = train_test_split(X, y, test_size=0.2, random_state=42)\n",
        "\n",
        "# Define numeric and categorical feature groups\n",
        "numeric_features = ['Crop_Year', 'Area', 'Production', 'Annual_Rainfall', 'Fertilizer', 'Pesticide']\n",
        "categorical_features = ['Season', 'Crop', 'State']\n",
        "\n",
        "# # Preprocessing: OneHotEncode categorical, scale numeric\n",
        "# numeric_features = X.select_dtypes(include=['int64', 'float64']).columns\n",
        "# categorical_features = X.select_dtypes(include=['object']).columns\n",
        "\n",
        "preprocessor = ColumnTransformer(\n",
        "    transformers=[\n",
        "        ('num', StandardScaler(), numeric_features),\n",
        "        ('cat', OneHotEncoder(), categorical_features)\n",
        "    ])\n",
        "\n",
        "# Apply preprocessor to determine the input shape after transformation\n",
        "preprocessed_X_train = preprocessor.fit_transform(X_train)\n",
        "input_shape = preprocessed_X_train.shape[1]\n"
      ],
      "metadata": {
        "id": "tpZ8mSmrsGVC"
      },
      "execution_count": null,
      "outputs": []
    },
    {
      "cell_type": "code",
      "execution_count": null,
      "metadata": {
        "colab": {
          "base_uri": "https://localhost:8080/"
        },
        "id": "s_1gsMtCr4Vs",
        "outputId": "f3650687-ab25-43ab-8078-7e984e07a88c"
      },
      "outputs": [
        {
          "output_type": "stream",
          "name": "stderr",
          "text": [
            "/usr/local/lib/python3.10/dist-packages/keras/src/layers/core/input_layer.py:26: UserWarning: Argument `input_shape` is deprecated. Use `shape` instead.\n",
            "  warnings.warn(\n"
          ]
        },
        {
          "output_type": "stream",
          "name": "stdout",
          "text": [
            "Epoch 1/100\n",
            "\u001b[1m493/493\u001b[0m \u001b[32m━━━━━━━━━━━━━━━━━━━━\u001b[0m\u001b[37m\u001b[0m \u001b[1m6s\u001b[0m 4ms/step - loss: 731609.5000 - mae: 86.3943\n",
            "Epoch 2/100\n",
            "\u001b[1m 11/493\u001b[0m \u001b[37m━━━━━━━━━━━━━━━━━━━━\u001b[0m \u001b[1m2s\u001b[0m 5ms/step - loss: 138671.6406 - mae: 57.4619 "
          ]
        },
        {
          "output_type": "stream",
          "name": "stderr",
          "text": [
            "/usr/local/lib/python3.10/dist-packages/keras/src/callbacks/early_stopping.py:155: UserWarning: Early stopping conditioned on metric `val_loss` which is not available. Available metrics are: loss,mae\n",
            "  current = self.get_monitor_value(logs)\n"
          ]
        },
        {
          "output_type": "stream",
          "name": "stdout",
          "text": [
            "\u001b[1m493/493\u001b[0m \u001b[32m━━━━━━━━━━━━━━━━━━━━\u001b[0m\u001b[37m\u001b[0m \u001b[1m2s\u001b[0m 4ms/step - loss: 253444.6094 - mae: 57.7482\n",
            "Epoch 3/100\n",
            "\u001b[1m493/493\u001b[0m \u001b[32m━━━━━━━━━━━━━━━━━━━━\u001b[0m\u001b[37m\u001b[0m \u001b[1m2s\u001b[0m 4ms/step - loss: 89379.0547 - mae: 29.9137\n",
            "Epoch 4/100\n",
            "\u001b[1m493/493\u001b[0m \u001b[32m━━━━━━━━━━━━━━━━━━━━\u001b[0m\u001b[37m\u001b[0m \u001b[1m4s\u001b[0m 7ms/step - loss: 29666.1719 - mae: 20.5023\n",
            "Epoch 5/100\n",
            "\u001b[1m493/493\u001b[0m \u001b[32m━━━━━━━━━━━━━━━━━━━━\u001b[0m\u001b[37m\u001b[0m \u001b[1m5s\u001b[0m 6ms/step - loss: 31300.7656 - mae: 16.9383\n",
            "Epoch 6/100\n",
            "\u001b[1m493/493\u001b[0m \u001b[32m━━━━━━━━━━━━━━━━━━━━\u001b[0m\u001b[37m\u001b[0m \u001b[1m3s\u001b[0m 6ms/step - loss: 27334.5742 - mae: 17.3800\n",
            "Epoch 7/100\n",
            "\u001b[1m493/493\u001b[0m \u001b[32m━━━━━━━━━━━━━━━━━━━━\u001b[0m\u001b[37m\u001b[0m \u001b[1m2s\u001b[0m 4ms/step - loss: 43203.2617 - mae: 18.8264\n",
            "Epoch 8/100\n",
            "\u001b[1m493/493\u001b[0m \u001b[32m━━━━━━━━━━━━━━━━━━━━\u001b[0m\u001b[37m\u001b[0m \u001b[1m5s\u001b[0m 9ms/step - loss: 30781.3477 - mae: 17.1379\n",
            "Epoch 9/100\n",
            "\u001b[1m493/493\u001b[0m \u001b[32m━━━━━━━━━━━━━━━━━━━━\u001b[0m\u001b[37m\u001b[0m \u001b[1m4s\u001b[0m 8ms/step - loss: 23573.8926 - mae: 15.7825\n",
            "Epoch 10/100\n",
            "\u001b[1m493/493\u001b[0m \u001b[32m━━━━━━━━━━━━━━━━━━━━\u001b[0m\u001b[37m\u001b[0m \u001b[1m4s\u001b[0m 7ms/step - loss: 23858.7676 - mae: 16.6276\n",
            "Epoch 11/100\n",
            "\u001b[1m493/493\u001b[0m \u001b[32m━━━━━━━━━━━━━━━━━━━━\u001b[0m\u001b[37m\u001b[0m \u001b[1m3s\u001b[0m 3ms/step - loss: 27514.0430 - mae: 16.4866\n",
            "Epoch 12/100\n",
            "\u001b[1m493/493\u001b[0m \u001b[32m━━━━━━━━━━━━━━━━━━━━\u001b[0m\u001b[37m\u001b[0m \u001b[1m3s\u001b[0m 3ms/step - loss: 24784.8184 - mae: 14.3033\n",
            "Epoch 13/100\n",
            "\u001b[1m493/493\u001b[0m \u001b[32m━━━━━━━━━━━━━━━━━━━━\u001b[0m\u001b[37m\u001b[0m \u001b[1m2s\u001b[0m 3ms/step - loss: 35296.3555 - mae: 18.6114\n",
            "Epoch 14/100\n",
            "\u001b[1m493/493\u001b[0m \u001b[32m━━━━━━━━━━━━━━━━━━━━\u001b[0m\u001b[37m\u001b[0m \u001b[1m2s\u001b[0m 2ms/step - loss: 21954.4609 - mae: 15.5185\n",
            "Epoch 15/100\n",
            "\u001b[1m493/493\u001b[0m \u001b[32m━━━━━━━━━━━━━━━━━━━━\u001b[0m\u001b[37m\u001b[0m \u001b[1m1s\u001b[0m 2ms/step - loss: 36028.2500 - mae: 18.8704\n",
            "Epoch 16/100\n",
            "\u001b[1m493/493\u001b[0m \u001b[32m━━━━━━━━━━━━━━━━━━━━\u001b[0m\u001b[37m\u001b[0m \u001b[1m1s\u001b[0m 2ms/step - loss: 30064.6797 - mae: 15.3029\n",
            "Epoch 17/100\n",
            "\u001b[1m493/493\u001b[0m \u001b[32m━━━━━━━━━━━━━━━━━━━━\u001b[0m\u001b[37m\u001b[0m \u001b[1m1s\u001b[0m 2ms/step - loss: 20903.0547 - mae: 14.8312\n",
            "Epoch 18/100\n",
            "\u001b[1m493/493\u001b[0m \u001b[32m━━━━━━━━━━━━━━━━━━━━\u001b[0m\u001b[37m\u001b[0m \u001b[1m1s\u001b[0m 2ms/step - loss: 15619.6191 - mae: 13.8416\n",
            "Epoch 19/100\n",
            "\u001b[1m493/493\u001b[0m \u001b[32m━━━━━━━━━━━━━━━━━━━━\u001b[0m\u001b[37m\u001b[0m \u001b[1m1s\u001b[0m 2ms/step - loss: 25901.0586 - mae: 16.0295\n",
            "Epoch 20/100\n",
            "\u001b[1m493/493\u001b[0m \u001b[32m━━━━━━━━━━━━━━━━━━━━\u001b[0m\u001b[37m\u001b[0m \u001b[1m1s\u001b[0m 2ms/step - loss: 23197.1738 - mae: 16.0956\n",
            "Epoch 21/100\n",
            "\u001b[1m493/493\u001b[0m \u001b[32m━━━━━━━━━━━━━━━━━━━━\u001b[0m\u001b[37m\u001b[0m \u001b[1m1s\u001b[0m 3ms/step - loss: 21722.1367 - mae: 16.4884\n",
            "Epoch 22/100\n",
            "\u001b[1m493/493\u001b[0m \u001b[32m━━━━━━━━━━━━━━━━━━━━\u001b[0m\u001b[37m\u001b[0m \u001b[1m3s\u001b[0m 3ms/step - loss: 31082.2480 - mae: 16.5521\n",
            "Epoch 23/100\n",
            "\u001b[1m493/493\u001b[0m \u001b[32m━━━━━━━━━━━━━━━━━━━━\u001b[0m\u001b[37m\u001b[0m \u001b[1m2s\u001b[0m 2ms/step - loss: 35799.8047 - mae: 18.8721\n",
            "Epoch 24/100\n",
            "\u001b[1m493/493\u001b[0m \u001b[32m━━━━━━━━━━━━━━━━━━━━\u001b[0m\u001b[37m\u001b[0m \u001b[1m1s\u001b[0m 2ms/step - loss: 20029.1875 - mae: 14.8062\n",
            "Epoch 25/100\n",
            "\u001b[1m493/493\u001b[0m \u001b[32m━━━━━━━━━━━━━━━━━━━━\u001b[0m\u001b[37m\u001b[0m \u001b[1m1s\u001b[0m 2ms/step - loss: 14148.6836 - mae: 12.9747\n",
            "Epoch 26/100\n",
            "\u001b[1m493/493\u001b[0m \u001b[32m━━━━━━━━━━━━━━━━━━━━\u001b[0m\u001b[37m\u001b[0m \u001b[1m1s\u001b[0m 2ms/step - loss: 20841.8496 - mae: 14.7596\n",
            "Epoch 27/100\n",
            "\u001b[1m493/493\u001b[0m \u001b[32m━━━━━━━━━━━━━━━━━━━━\u001b[0m\u001b[37m\u001b[0m \u001b[1m1s\u001b[0m 2ms/step - loss: 12371.4639 - mae: 12.3298\n",
            "Epoch 28/100\n",
            "\u001b[1m493/493\u001b[0m \u001b[32m━━━━━━━━━━━━━━━━━━━━\u001b[0m\u001b[37m\u001b[0m \u001b[1m1s\u001b[0m 2ms/step - loss: 15029.8066 - mae: 13.8797\n",
            "Epoch 29/100\n",
            "\u001b[1m493/493\u001b[0m \u001b[32m━━━━━━━━━━━━━━━━━━━━\u001b[0m\u001b[37m\u001b[0m \u001b[1m1s\u001b[0m 2ms/step - loss: 18893.0527 - mae: 13.9920\n",
            "Epoch 30/100\n",
            "\u001b[1m493/493\u001b[0m \u001b[32m━━━━━━━━━━━━━━━━━━━━\u001b[0m\u001b[37m\u001b[0m \u001b[1m2s\u001b[0m 3ms/step - loss: 18364.7949 - mae: 13.9733\n",
            "Epoch 31/100\n",
            "\u001b[1m493/493\u001b[0m \u001b[32m━━━━━━━━━━━━━━━━━━━━\u001b[0m\u001b[37m\u001b[0m \u001b[1m2s\u001b[0m 3ms/step - loss: 13646.7676 - mae: 12.4115\n",
            "Epoch 32/100\n",
            "\u001b[1m493/493\u001b[0m \u001b[32m━━━━━━━━━━━━━━━━━━━━\u001b[0m\u001b[37m\u001b[0m \u001b[1m1s\u001b[0m 2ms/step - loss: 15881.0000 - mae: 12.9441\n",
            "Epoch 33/100\n",
            "\u001b[1m493/493\u001b[0m \u001b[32m━━━━━━━━━━━━━━━━━━━━\u001b[0m\u001b[37m\u001b[0m \u001b[1m1s\u001b[0m 2ms/step - loss: 15495.5439 - mae: 13.1858\n",
            "Epoch 34/100\n",
            "\u001b[1m493/493\u001b[0m \u001b[32m━━━━━━━━━━━━━━━━━━━━\u001b[0m\u001b[37m\u001b[0m \u001b[1m1s\u001b[0m 2ms/step - loss: 21335.3262 - mae: 14.1707\n",
            "Epoch 35/100\n",
            "\u001b[1m493/493\u001b[0m \u001b[32m━━━━━━━━━━━━━━━━━━━━\u001b[0m\u001b[37m\u001b[0m \u001b[1m1s\u001b[0m 2ms/step - loss: 18598.8906 - mae: 13.7989\n",
            "Epoch 36/100\n",
            "\u001b[1m493/493\u001b[0m \u001b[32m━━━━━━━━━━━━━━━━━━━━\u001b[0m\u001b[37m\u001b[0m \u001b[1m1s\u001b[0m 2ms/step - loss: 13506.6748 - mae: 11.9712\n",
            "Epoch 37/100\n",
            "\u001b[1m493/493\u001b[0m \u001b[32m━━━━━━━━━━━━━━━━━━━━\u001b[0m\u001b[37m\u001b[0m \u001b[1m1s\u001b[0m 2ms/step - loss: 21400.7832 - mae: 14.6406\n",
            "Epoch 38/100\n",
            "\u001b[1m493/493\u001b[0m \u001b[32m━━━━━━━━━━━━━━━━━━━━\u001b[0m\u001b[37m\u001b[0m \u001b[1m1s\u001b[0m 2ms/step - loss: 15417.5703 - mae: 13.0700\n",
            "Epoch 39/100\n",
            "\u001b[1m493/493\u001b[0m \u001b[32m━━━━━━━━━━━━━━━━━━━━\u001b[0m\u001b[37m\u001b[0m \u001b[1m1s\u001b[0m 2ms/step - loss: 18737.2344 - mae: 13.2708\n",
            "Epoch 40/100\n",
            "\u001b[1m493/493\u001b[0m \u001b[32m━━━━━━━━━━━━━━━━━━━━\u001b[0m\u001b[37m\u001b[0m \u001b[1m2s\u001b[0m 3ms/step - loss: 20923.6973 - mae: 14.1972\n",
            "Epoch 41/100\n",
            "\u001b[1m493/493\u001b[0m \u001b[32m━━━━━━━━━━━━━━━━━━━━\u001b[0m\u001b[37m\u001b[0m \u001b[1m2s\u001b[0m 3ms/step - loss: 31153.9355 - mae: 17.6651\n",
            "Epoch 42/100\n",
            "\u001b[1m493/493\u001b[0m \u001b[32m━━━━━━━━━━━━━━━━━━━━\u001b[0m\u001b[37m\u001b[0m \u001b[1m2s\u001b[0m 2ms/step - loss: 14390.5225 - mae: 12.3583\n",
            "Epoch 43/100\n",
            "\u001b[1m493/493\u001b[0m \u001b[32m━━━━━━━━━━━━━━━━━━━━\u001b[0m\u001b[37m\u001b[0m \u001b[1m1s\u001b[0m 2ms/step - loss: 23280.3672 - mae: 15.4785\n",
            "Epoch 44/100\n",
            "\u001b[1m493/493\u001b[0m \u001b[32m━━━━━━━━━━━━━━━━━━━━\u001b[0m\u001b[37m\u001b[0m \u001b[1m1s\u001b[0m 2ms/step - loss: 15351.2393 - mae: 13.0558\n",
            "Epoch 45/100\n",
            "\u001b[1m493/493\u001b[0m \u001b[32m━━━━━━━━━━━━━━━━━━━━\u001b[0m\u001b[37m\u001b[0m \u001b[1m1s\u001b[0m 2ms/step - loss: 19437.7637 - mae: 14.0249\n",
            "Epoch 46/100\n",
            "\u001b[1m493/493\u001b[0m \u001b[32m━━━━━━━━━━━━━━━━━━━━\u001b[0m\u001b[37m\u001b[0m \u001b[1m1s\u001b[0m 2ms/step - loss: 15898.8027 - mae: 12.4986\n",
            "Epoch 47/100\n",
            "\u001b[1m493/493\u001b[0m \u001b[32m━━━━━━━━━━━━━━━━━━━━\u001b[0m\u001b[37m\u001b[0m \u001b[1m1s\u001b[0m 2ms/step - loss: 17921.7402 - mae: 12.9611\n",
            "Epoch 48/100\n",
            "\u001b[1m493/493\u001b[0m \u001b[32m━━━━━━━━━━━━━━━━━━━━\u001b[0m\u001b[37m\u001b[0m \u001b[1m1s\u001b[0m 2ms/step - loss: 22557.2812 - mae: 14.7310\n",
            "Epoch 49/100\n",
            "\u001b[1m493/493\u001b[0m \u001b[32m━━━━━━━━━━━━━━━━━━━━\u001b[0m\u001b[37m\u001b[0m \u001b[1m2s\u001b[0m 3ms/step - loss: 22800.6582 - mae: 14.0310\n",
            "Epoch 50/100\n",
            "\u001b[1m493/493\u001b[0m \u001b[32m━━━━━━━━━━━━━━━━━━━━\u001b[0m\u001b[37m\u001b[0m \u001b[1m2s\u001b[0m 3ms/step - loss: 21593.1289 - mae: 15.3135\n",
            "Epoch 51/100\n",
            "\u001b[1m493/493\u001b[0m \u001b[32m━━━━━━━━━━━━━━━━━━━━\u001b[0m\u001b[37m\u001b[0m \u001b[1m1s\u001b[0m 3ms/step - loss: 13225.7949 - mae: 11.5536\n",
            "Epoch 52/100\n",
            "\u001b[1m493/493\u001b[0m \u001b[32m━━━━━━━━━━━━━━━━━━━━\u001b[0m\u001b[37m\u001b[0m \u001b[1m2s\u001b[0m 2ms/step - loss: 17110.2070 - mae: 11.5824\n",
            "Epoch 53/100\n",
            "\u001b[1m493/493\u001b[0m \u001b[32m━━━━━━━━━━━━━━━━━━━━\u001b[0m\u001b[37m\u001b[0m \u001b[1m1s\u001b[0m 2ms/step - loss: 16676.4902 - mae: 13.6383\n",
            "Epoch 54/100\n",
            "\u001b[1m493/493\u001b[0m \u001b[32m━━━━━━━━━━━━━━━━━━━━\u001b[0m\u001b[37m\u001b[0m \u001b[1m1s\u001b[0m 2ms/step - loss: 18564.8418 - mae: 13.6338\n",
            "Epoch 55/100\n",
            "\u001b[1m493/493\u001b[0m \u001b[32m━━━━━━━━━━━━━━━━━━━━\u001b[0m\u001b[37m\u001b[0m \u001b[1m1s\u001b[0m 2ms/step - loss: 9190.0205 - mae: 10.3632\n",
            "Epoch 56/100\n",
            "\u001b[1m493/493\u001b[0m \u001b[32m━━━━━━━━━━━━━━━━━━━━\u001b[0m\u001b[37m\u001b[0m \u001b[1m3s\u001b[0m 3ms/step - loss: 11589.9268 - mae: 11.1332\n",
            "Epoch 57/100\n",
            "\u001b[1m493/493\u001b[0m \u001b[32m━━━━━━━━━━━━━━━━━━━━\u001b[0m\u001b[37m\u001b[0m \u001b[1m4s\u001b[0m 5ms/step - loss: 11169.2227 - mae: 10.8496\n",
            "Epoch 58/100\n",
            "\u001b[1m493/493\u001b[0m \u001b[32m━━━━━━━━━━━━━━━━━━━━\u001b[0m\u001b[37m\u001b[0m \u001b[1m5s\u001b[0m 5ms/step - loss: 16917.8242 - mae: 12.8885\n",
            "Epoch 59/100\n",
            "\u001b[1m493/493\u001b[0m \u001b[32m━━━━━━━━━━━━━━━━━━━━\u001b[0m\u001b[37m\u001b[0m \u001b[1m3s\u001b[0m 5ms/step - loss: 16331.4238 - mae: 13.4101\n",
            "Epoch 60/100\n",
            "\u001b[1m493/493\u001b[0m \u001b[32m━━━━━━━━━━━━━━━━━━━━\u001b[0m\u001b[37m\u001b[0m \u001b[1m4s\u001b[0m 3ms/step - loss: 17863.9004 - mae: 13.4059\n",
            "Epoch 61/100\n",
            "\u001b[1m493/493\u001b[0m \u001b[32m━━━━━━━━━━━━━━━━━━━━\u001b[0m\u001b[37m\u001b[0m \u001b[1m3s\u001b[0m 3ms/step - loss: 17178.4746 - mae: 12.5379\n",
            "Epoch 62/100\n",
            "\u001b[1m493/493\u001b[0m \u001b[32m━━━━━━━━━━━━━━━━━━━━\u001b[0m\u001b[37m\u001b[0m \u001b[1m2s\u001b[0m 2ms/step - loss: 22813.1836 - mae: 14.2126\n",
            "Epoch 63/100\n",
            "\u001b[1m493/493\u001b[0m \u001b[32m━━━━━━━━━━━━━━━━━━━━\u001b[0m\u001b[37m\u001b[0m \u001b[1m1s\u001b[0m 2ms/step - loss: 24365.6992 - mae: 14.4801\n",
            "Epoch 64/100\n",
            "\u001b[1m493/493\u001b[0m \u001b[32m━━━━━━━━━━━━━━━━━━━━\u001b[0m\u001b[37m\u001b[0m \u001b[1m1s\u001b[0m 2ms/step - loss: 19434.5801 - mae: 12.7948\n",
            "Epoch 65/100\n",
            "\u001b[1m493/493\u001b[0m \u001b[32m━━━━━━━━━━━━━━━━━━━━\u001b[0m\u001b[37m\u001b[0m \u001b[1m1s\u001b[0m 2ms/step - loss: 17748.8125 - mae: 11.9434\n",
            "Epoch 66/100\n",
            "\u001b[1m493/493\u001b[0m \u001b[32m━━━━━━━━━━━━━━━━━━━━\u001b[0m\u001b[37m\u001b[0m \u001b[1m1s\u001b[0m 2ms/step - loss: 13672.2646 - mae: 11.9369\n",
            "Epoch 67/100\n",
            "\u001b[1m493/493\u001b[0m \u001b[32m━━━━━━━━━━━━━━━━━━━━\u001b[0m\u001b[37m\u001b[0m \u001b[1m1s\u001b[0m 2ms/step - loss: 17276.9141 - mae: 12.1452\n",
            "Epoch 68/100\n",
            "\u001b[1m493/493\u001b[0m \u001b[32m━━━━━━━━━━━━━━━━━━━━\u001b[0m\u001b[37m\u001b[0m \u001b[1m1s\u001b[0m 2ms/step - loss: 13985.1289 - mae: 11.6217\n",
            "Epoch 69/100\n",
            "\u001b[1m493/493\u001b[0m \u001b[32m━━━━━━━━━━━━━━━━━━━━\u001b[0m\u001b[37m\u001b[0m \u001b[1m3s\u001b[0m 6ms/step - loss: 14995.9521 - mae: 11.5651\n",
            "Epoch 70/100\n",
            "\u001b[1m493/493\u001b[0m \u001b[32m━━━━━━━━━━━━━━━━━━━━\u001b[0m\u001b[37m\u001b[0m \u001b[1m4s\u001b[0m 4ms/step - loss: 13064.3740 - mae: 11.2317\n",
            "Epoch 71/100\n",
            "\u001b[1m493/493\u001b[0m \u001b[32m━━━━━━━━━━━━━━━━━━━━\u001b[0m\u001b[37m\u001b[0m \u001b[1m2s\u001b[0m 2ms/step - loss: 19183.3906 - mae: 13.9118\n",
            "Epoch 72/100\n",
            "\u001b[1m493/493\u001b[0m \u001b[32m━━━━━━━━━━━━━━━━━━━━\u001b[0m\u001b[37m\u001b[0m \u001b[1m1s\u001b[0m 2ms/step - loss: 20438.3398 - mae: 14.0095\n",
            "Epoch 73/100\n",
            "\u001b[1m493/493\u001b[0m \u001b[32m━━━━━━━━━━━━━━━━━━━━\u001b[0m\u001b[37m\u001b[0m \u001b[1m1s\u001b[0m 2ms/step - loss: 13931.2500 - mae: 10.4106\n",
            "Epoch 74/100\n",
            "\u001b[1m493/493\u001b[0m \u001b[32m━━━━━━━━━━━━━━━━━━━━\u001b[0m\u001b[37m\u001b[0m \u001b[1m1s\u001b[0m 2ms/step - loss: 13572.8467 - mae: 11.4547\n",
            "Epoch 75/100\n",
            "\u001b[1m493/493\u001b[0m \u001b[32m━━━━━━━━━━━━━━━━━━━━\u001b[0m\u001b[37m\u001b[0m \u001b[1m1s\u001b[0m 2ms/step - loss: 14694.5732 - mae: 11.6433\n",
            "Epoch 76/100\n",
            "\u001b[1m493/493\u001b[0m \u001b[32m━━━━━━━━━━━━━━━━━━━━\u001b[0m\u001b[37m\u001b[0m \u001b[1m1s\u001b[0m 2ms/step - loss: 17109.4395 - mae: 12.8730\n",
            "Epoch 77/100\n",
            "\u001b[1m493/493\u001b[0m \u001b[32m━━━━━━━━━━━━━━━━━━━━\u001b[0m\u001b[37m\u001b[0m \u001b[1m1s\u001b[0m 3ms/step - loss: 12307.7939 - mae: 10.2963\n",
            "Epoch 78/100\n",
            "\u001b[1m493/493\u001b[0m \u001b[32m━━━━━━━━━━━━━━━━━━━━\u001b[0m\u001b[37m\u001b[0m \u001b[1m3s\u001b[0m 3ms/step - loss: 14565.8525 - mae: 11.9414\n",
            "Epoch 79/100\n",
            "\u001b[1m493/493\u001b[0m \u001b[32m━━━━━━━━━━━━━━━━━━━━\u001b[0m\u001b[37m\u001b[0m \u001b[1m2s\u001b[0m 2ms/step - loss: 14852.4199 - mae: 11.4400\n",
            "Epoch 80/100\n",
            "\u001b[1m493/493\u001b[0m \u001b[32m━━━━━━━━━━━━━━━━━━━━\u001b[0m\u001b[37m\u001b[0m \u001b[1m1s\u001b[0m 2ms/step - loss: 14206.8828 - mae: 11.6829\n",
            "Epoch 81/100\n",
            "\u001b[1m493/493\u001b[0m \u001b[32m━━━━━━━━━━━━━━━━━━━━\u001b[0m\u001b[37m\u001b[0m \u001b[1m1s\u001b[0m 2ms/step - loss: 15841.5303 - mae: 11.4202\n",
            "Epoch 82/100\n",
            "\u001b[1m493/493\u001b[0m \u001b[32m━━━━━━━━━━━━━━━━━━━━\u001b[0m\u001b[37m\u001b[0m \u001b[1m1s\u001b[0m 2ms/step - loss: 19412.5703 - mae: 13.3825\n",
            "Epoch 83/100\n",
            "\u001b[1m493/493\u001b[0m \u001b[32m━━━━━━━━━━━━━━━━━━━━\u001b[0m\u001b[37m\u001b[0m \u001b[1m1s\u001b[0m 2ms/step - loss: 16720.5039 - mae: 12.6639\n",
            "Epoch 84/100\n",
            "\u001b[1m493/493\u001b[0m \u001b[32m━━━━━━━━━━━━━━━━━━━━\u001b[0m\u001b[37m\u001b[0m \u001b[1m1s\u001b[0m 2ms/step - loss: 13458.2393 - mae: 11.8442\n",
            "Epoch 85/100\n",
            "\u001b[1m493/493\u001b[0m \u001b[32m━━━━━━━━━━━━━━━━━━━━\u001b[0m\u001b[37m\u001b[0m \u001b[1m1s\u001b[0m 2ms/step - loss: 22434.1426 - mae: 13.9060\n",
            "Epoch 86/100\n",
            "\u001b[1m493/493\u001b[0m \u001b[32m━━━━━━━━━━━━━━━━━━━━\u001b[0m\u001b[37m\u001b[0m \u001b[1m2s\u001b[0m 3ms/step - loss: 15570.5742 - mae: 11.5386\n",
            "Epoch 87/100\n",
            "\u001b[1m493/493\u001b[0m \u001b[32m━━━━━━━━━━━━━━━━━━━━\u001b[0m\u001b[37m\u001b[0m \u001b[1m2s\u001b[0m 3ms/step - loss: 14197.4199 - mae: 11.2620\n",
            "Epoch 88/100\n",
            "\u001b[1m493/493\u001b[0m \u001b[32m━━━━━━━━━━━━━━━━━━━━\u001b[0m\u001b[37m\u001b[0m \u001b[1m3s\u001b[0m 4ms/step - loss: 19591.4902 - mae: 12.4261\n",
            "Epoch 89/100\n",
            "\u001b[1m493/493\u001b[0m \u001b[32m━━━━━━━━━━━━━━━━━━━━\u001b[0m\u001b[37m\u001b[0m \u001b[1m3s\u001b[0m 5ms/step - loss: 13020.9678 - mae: 10.9329\n",
            "Epoch 90/100\n",
            "\u001b[1m493/493\u001b[0m \u001b[32m━━━━━━━━━━━━━━━━━━━━\u001b[0m\u001b[37m\u001b[0m \u001b[1m4s\u001b[0m 4ms/step - loss: 20594.2969 - mae: 12.9601\n",
            "Epoch 91/100\n",
            "\u001b[1m493/493\u001b[0m \u001b[32m━━━━━━━━━━━━━━━━━━━━\u001b[0m\u001b[37m\u001b[0m \u001b[1m2s\u001b[0m 4ms/step - loss: 14439.9531 - mae: 11.7670\n",
            "Epoch 92/100\n",
            "\u001b[1m493/493\u001b[0m \u001b[32m━━━━━━━━━━━━━━━━━━━━\u001b[0m\u001b[37m\u001b[0m \u001b[1m2s\u001b[0m 2ms/step - loss: 10139.2920 - mae: 9.8955\n",
            "Epoch 93/100\n",
            "\u001b[1m493/493\u001b[0m \u001b[32m━━━━━━━━━━━━━━━━━━━━\u001b[0m\u001b[37m\u001b[0m \u001b[1m1s\u001b[0m 2ms/step - loss: 14871.9170 - mae: 11.8940\n",
            "Epoch 94/100\n",
            "\u001b[1m493/493\u001b[0m \u001b[32m━━━━━━━━━━━━━━━━━━━━\u001b[0m\u001b[37m\u001b[0m \u001b[1m1s\u001b[0m 2ms/step - loss: 18100.7695 - mae: 11.5144\n",
            "Epoch 95/100\n",
            "\u001b[1m493/493\u001b[0m \u001b[32m━━━━━━━━━━━━━━━━━━━━\u001b[0m\u001b[37m\u001b[0m \u001b[1m3s\u001b[0m 3ms/step - loss: 14358.2090 - mae: 11.2812\n",
            "Epoch 96/100\n",
            "\u001b[1m493/493\u001b[0m \u001b[32m━━━━━━━━━━━━━━━━━━━━\u001b[0m\u001b[37m\u001b[0m \u001b[1m2s\u001b[0m 3ms/step - loss: 17480.4238 - mae: 12.6431\n",
            "Epoch 97/100\n",
            "\u001b[1m493/493\u001b[0m \u001b[32m━━━━━━━━━━━━━━━━━━━━\u001b[0m\u001b[37m\u001b[0m \u001b[1m3s\u001b[0m 4ms/step - loss: 15996.1240 - mae: 11.9358\n",
            "Epoch 98/100\n",
            "\u001b[1m493/493\u001b[0m \u001b[32m━━━━━━━━━━━━━━━━━━━━\u001b[0m\u001b[37m\u001b[0m \u001b[1m2s\u001b[0m 3ms/step - loss: 14370.7861 - mae: 11.0340\n",
            "Epoch 99/100\n",
            "\u001b[1m493/493\u001b[0m \u001b[32m━━━━━━━━━━━━━━━━━━━━\u001b[0m\u001b[37m\u001b[0m \u001b[1m2s\u001b[0m 2ms/step - loss: 10410.5059 - mae: 9.1243\n",
            "Epoch 100/100\n",
            "\u001b[1m493/493\u001b[0m \u001b[32m━━━━━━━━━━━━━━━━━━━━\u001b[0m\u001b[37m\u001b[0m \u001b[1m1s\u001b[0m 2ms/step - loss: 16188.8418 - mae: 11.2847\n",
            "\u001b[1m124/124\u001b[0m \u001b[32m━━━━━━━━━━━━━━━━━━━━\u001b[0m\u001b[37m\u001b[0m \u001b[1m0s\u001b[0m 2ms/step\n"
          ]
        }
      ],
      "source": [
        "#  Neural network model\n",
        "def build_model():\n",
        "    model = tf.keras.Sequential([\n",
        "        layers.InputLayer(input_shape=(input_shape,)),  # Updated input shape\n",
        "        layers.Dense(128, activation='relu'),\n",
        "        layers.Dropout(0.2),\n",
        "        layers.Dense(64, activation='relu'),\n",
        "        layers.Dropout(0.2),\n",
        "        layers.Dense(32, activation='relu'),\n",
        "        layers.Dense(1)  # Output layer for regression\n",
        "    ])\n",
        "\n",
        "    model.compile(optimizer='adam', loss='mse', metrics=['mae'])\n",
        "    return model\n",
        "\n",
        "# Build and train pipeline\n",
        "early_stop = tf.keras.callbacks.EarlyStopping(monitor='val_loss', patience=5, restore_best_weights=True)\n",
        "pipeline = Pipeline(steps=[('preprocessor', preprocessor),\n",
        "                           ('model', KerasRegressor(model=build_model, epochs=100, batch_size=32,callbacks=[early_stop]))])\n",
        "\n",
        "# Train the model\n",
        "pipeline.fit(X_train, y_train)\n",
        "\n",
        "# Predictions\n",
        "y_pred = pipeline.predict(X_test)\n"
      ]
    },
    {
      "cell_type": "code",
      "source": [
        "# Evaluate\n",
        "mse = mean_squared_error(y_test, y_pred)\n",
        "rmse = np.sqrt(mse)\n",
        "print(f'Root Mean Squared Error: {rmse}')\n",
        "\n",
        "\n",
        "\n",
        "# Fit the entire pipeline (preprocessor + model) on the training data\n",
        "# pipeline.fit(X_train, y_train)\n",
        "\n",
        "# Predict for multiple samples\n",
        "n_samples = 5  # Number of samples you want to predict\n",
        "samples = X_test.iloc[:n_samples]\n",
        "\n",
        "# Preprocess the samples using the fitted pipeline\n",
        "predictions = pipeline.predict(samples)\n",
        "\n",
        "# Display the input data, predicted yield, actual yield, and absolute error\n",
        "for i in range(n_samples):\n",
        "    print(f\"\\nSample {i+1}:\")\n",
        "    print(f\"Input: {samples.iloc[i].to_dict()}\")\n",
        "    print(f\"Predicted yield: {predictions[i]:.2f}\")\n",
        "    print(f\"Actual yield: {y_test.iloc[i]:.2f}\")\n",
        "    print(f\"Absolute error: {abs(predictions[i] - y_test.iloc[i]):.2f}\")\n",
        "\n",
        "\n",
        "from sklearn.metrics import mean_squared_error, r2_score\n",
        "y_pred = pipeline.predict(X_test)  # Predict on the entire test set\n",
        "\n",
        "# Calculate MSE\n",
        "mse = mean_squared_error(y_test, y_pred)\n",
        "print(f\"\\nMean Squared Error (MSE): {mse:.2f}\")\n",
        "\n",
        "# Calculate R-squared score\n",
        "r2 = r2_score(y_test, y_pred)\n",
        "print(f\"R-squared (R²) score: {r2:.2f}\")"
      ],
      "metadata": {
        "colab": {
          "base_uri": "https://localhost:8080/"
        },
        "id": "Jjq2T_72s6Ga",
        "outputId": "e2da8d3d-45e3-403c-a8dd-fea84404f533"
      },
      "execution_count": null,
      "outputs": [
        {
          "output_type": "stream",
          "name": "stdout",
          "text": [
            "Root Mean Squared Error: 116.27109388194101\n",
            "\u001b[1m1/1\u001b[0m \u001b[32m━━━━━━━━━━━━━━━━━━━━\u001b[0m\u001b[37m\u001b[0m \u001b[1m0s\u001b[0m 45ms/step\n",
            "\n",
            "Sample 1:\n",
            "Input: {'Crop': 'Peas & beans (Pulses)', 'Crop_Year': 2016, 'Season': 'Kharif     ', 'State': 'Jammu and Kashmir', 'Area': 210.0, 'Production': 1010, 'Annual_Rainfall': 902.8, 'Fertilizer': 32182.5, 'Pesticide': 73.5}\n",
            "Predicted yield: 1.88\n",
            "Actual yield: 3.82\n",
            "Absolute error: 1.94\n",
            "\n",
            "Sample 2:\n",
            "Input: {'Crop': 'Maize', 'Crop_Year': 1999, 'Season': 'Rabi       ', 'State': 'Odisha', 'Area': 8270.0, 'Production': 10280, 'Annual_Rainfall': 1484.3, 'Fertilizer': 877695.1, 'Pesticide': 2232.9}\n",
            "Predicted yield: 1.13\n",
            "Actual yield: 1.40\n",
            "Absolute error: 0.26\n",
            "\n",
            "Sample 3:\n",
            "Input: {'Crop': 'Potato', 'Crop_Year': 2016, 'Season': 'Winter     ', 'State': 'Meghalaya', 'Area': 6341.0, 'Production': 44026, 'Annual_Rainfall': 3837.1, 'Fertilizer': 971758.25, 'Pesticide': 2219.35}\n",
            "Predicted yield: 6.05\n",
            "Actual yield: 6.52\n",
            "Absolute error: 0.47\n",
            "\n",
            "Sample 4:\n",
            "Input: {'Crop': 'Ragi', 'Crop_Year': 2008, 'Season': 'Autumn     ', 'State': 'Jharkhand', 'Area': 29768.73, 'Production': 27189, 'Annual_Rainfall': 1295.2, 'Fertilizer': 4258119.139, 'Pesticide': 2679.1857}\n",
            "Predicted yield: 1.35\n",
            "Actual yield: 0.81\n",
            "Absolute error: 0.54\n",
            "\n",
            "Sample 5:\n",
            "Input: {'Crop': 'Castor seed', 'Crop_Year': 2017, 'Season': 'Kharif     ', 'State': 'Madhya Pradesh', 'Area': 8950.0, 'Production': 4970, 'Annual_Rainfall': 800.0, 'Fertilizer': 1409088.0, 'Pesticide': 3401.0}\n",
            "Predicted yield: 1.02\n",
            "Actual yield: 0.51\n",
            "Absolute error: 0.52\n",
            "\u001b[1m124/124\u001b[0m \u001b[32m━━━━━━━━━━━━━━━━━━━━\u001b[0m\u001b[37m\u001b[0m \u001b[1m0s\u001b[0m 2ms/step\n",
            "\n",
            "Mean Squared Error (MSE): 13518.97\n",
            "R-squared (R²) score: 0.98\n"
          ]
        }
      ]
    },
    {
      "cell_type": "markdown",
      "source": [],
      "metadata": {
        "id": "3mH35LC9fx3m"
      }
    },
    {
      "cell_type": "markdown",
      "source": [
        "# Spearman’s Rank Correlation"
      ],
      "metadata": {
        "id": "xOdkCouHtw_3"
      }
    },
    {
      "cell_type": "code",
      "source": [
        "from scipy.stats import spearmanr\n",
        "\n",
        "spearman_corr, spearman_p = spearmanr(y_test, y_pred)\n",
        "print(f\"Spearman Correlation: {spearman_corr:.4f}, P-value: {spearman_p:.4f}\")\n"
      ],
      "metadata": {
        "colab": {
          "base_uri": "https://localhost:8080/"
        },
        "id": "j3og9RQotxXf",
        "outputId": "bb797e93-ff6d-4a3a-aee0-23c8a8cd5124"
      },
      "execution_count": null,
      "outputs": [
        {
          "output_type": "stream",
          "name": "stdout",
          "text": [
            "Spearman Correlation: 0.5317, P-value: 0.0000\n"
          ]
        }
      ]
    },
    {
      "cell_type": "markdown",
      "source": [
        "# Pearson Correlation Coefficient"
      ],
      "metadata": {
        "id": "9VvLp_T9t-E-"
      }
    },
    {
      "cell_type": "code",
      "source": [
        "from scipy.stats import pearsonr\n",
        "\n",
        "pearson_corr, pearson_p = pearsonr(y_test, y_pred)\n",
        "print(f\"Pearson Correlation Coefficient: {pearson_corr:.4f}, P-value: {pearson_p:.4f}\")\n",
        "if pearson_p < 0.05:\n",
        "    print(\"Reject the null hypothesis: Significant linear relationship exists.\")\n",
        "else:\n",
        "    print(\"Fail to reject the null hypothesis: No significant linear relationship.\")\n"
      ],
      "metadata": {
        "colab": {
          "base_uri": "https://localhost:8080/"
        },
        "id": "GlmAhRsTt--O",
        "outputId": "d7e1be2c-da18-4a8d-8dda-e4eeba3f0916"
      },
      "execution_count": null,
      "outputs": [
        {
          "output_type": "stream",
          "name": "stdout",
          "text": [
            "Pearson Correlation Coefficient: 0.9916, P-value: 0.0000\n",
            "Reject the null hypothesis: Significant linear relationship exists.\n"
          ]
        }
      ]
    },
    {
      "cell_type": "markdown",
      "source": [
        "Pearson and Spearman correlations test relationships between actual and predicted values."
      ],
      "metadata": {
        "id": "Immv-zL1tw8U"
      }
    },
    {
      "cell_type": "markdown",
      "source": [
        "# Chi-Square Test"
      ],
      "metadata": {
        "id": "yuddcfaruB9F"
      }
    },
    {
      "cell_type": "markdown",
      "source": [
        "Chi-Square evaluates independence for categorical outcomes."
      ],
      "metadata": {
        "id": "gLIEwgQovAO4"
      }
    },
    {
      "cell_type": "code",
      "source": [
        "from scipy.stats import chi2_contingency\n",
        "\n",
        "# Convert continuous values into categorical bins\n",
        "actual_bins = pd.qcut(y_test, q=3, labels=[\"Low\", \"Medium\", \"High\"])\n",
        "predicted_bins = pd.qcut(y_pred, q=3, labels=[\"Low\", \"Medium\", \"High\"])\n",
        "\n",
        "# Create contingency table\n",
        "contingency_table = pd.crosstab(actual_bins, predicted_bins)\n",
        "\n",
        "# Perform Chi-Square Test\n",
        "chi2_stat, chi2_p, dof, expected = chi2_contingency(contingency_table)\n",
        "print(f\"Chi-Square Statistic: {chi2_stat:.4f}, P-value: {chi2_p:.4f}\")\n",
        "if chi2_p < 0.05:\n",
        "    print(\"Reject the null hypothesis: Observed and predicted values are dependent.\")\n",
        "else:\n",
        "    print(\"Fail to reject the null hypothesis: Observed and predicted values are independent.\")\n"
      ],
      "metadata": {
        "colab": {
          "base_uri": "https://localhost:8080/"
        },
        "id": "42cExVkluCog",
        "outputId": "d6daa19b-45b5-4c4b-ce3b-8667e3377d7b"
      },
      "execution_count": null,
      "outputs": [
        {
          "output_type": "stream",
          "name": "stdout",
          "text": [
            "Chi-Square Statistic: 1034.1082, P-value: 0.0000\n",
            "Reject the null hypothesis: Observed and predicted values are dependent.\n"
          ]
        }
      ]
    },
    {
      "cell_type": "markdown",
      "source": [
        "# Shapiro-Wilk Test for Normality"
      ],
      "metadata": {
        "id": "_heekPV5uGjr"
      }
    },
    {
      "cell_type": "code",
      "source": [
        "residuals = y_test - y_pred\n"
      ],
      "metadata": {
        "id": "1ua1ecssfyGI"
      },
      "execution_count": null,
      "outputs": []
    },
    {
      "cell_type": "code",
      "source": [
        "from scipy.stats import shapiro\n",
        "\n",
        "shapiro_stat, shapiro_p = shapiro(residuals)\n",
        "print(f\"Shapiro-Wilk Statistic: {shapiro_stat:.4f}, P-value: {shapiro_p:.4f}\")\n",
        "if shapiro_p > 0.05:\n",
        "    print(\"Residuals are normally distributed.\")\n",
        "else:\n",
        "    print(\"Residuals are not normally distributed.\")\n"
      ],
      "metadata": {
        "colab": {
          "base_uri": "https://localhost:8080/"
        },
        "id": "79yiASNeuIDT",
        "outputId": "8aececd9-eb9d-4678-b11f-73e4633896cc"
      },
      "execution_count": null,
      "outputs": [
        {
          "output_type": "stream",
          "name": "stdout",
          "text": [
            "Shapiro-Wilk Statistic: 0.0624, P-value: 0.0000\n",
            "Residuals are not normally distributed.\n"
          ]
        }
      ]
    },
    {
      "cell_type": "markdown",
      "source": [
        "# Wilcoxon Signed-Rank Test"
      ],
      "metadata": {
        "id": "vn6mQxQTuNPb"
      }
    },
    {
      "cell_type": "code",
      "source": [
        "from scipy.stats import wilcoxon\n",
        "\n",
        "wilcoxon_stat, wilcoxon_p = wilcoxon(y_test - y_pred)\n",
        "print(f\"Wilcoxon Statistic: {wilcoxon_stat:.4f}, P-value: {wilcoxon_p:.4f}\")\n",
        "if wilcoxon_p < 0.05:\n",
        "    print(\"Reject the null hypothesis: Median difference is significant.\")\n",
        "else:\n",
        "    print(\"Fail to reject the null hypothesis: Median difference is not significant.\")\n"
      ],
      "metadata": {
        "colab": {
          "base_uri": "https://localhost:8080/"
        },
        "id": "s-rJI9pjuIRi",
        "outputId": "6197a37d-85be-4aeb-9dca-1fb533dc4f6d"
      },
      "execution_count": null,
      "outputs": [
        {
          "output_type": "stream",
          "name": "stdout",
          "text": [
            "Wilcoxon Statistic: 2715758.0000, P-value: 0.0000\n",
            "Reject the null hypothesis: Median difference is significant.\n"
          ]
        }
      ]
    },
    {
      "cell_type": "markdown",
      "source": [
        "# Friedman Test"
      ],
      "metadata": {
        "id": "W1mxcxdLuQm5"
      }
    },
    {
      "cell_type": "code",
      "source": [
        "from scipy.stats import friedmanchisquare\n",
        "\n",
        "model_1_preds = y_pred  # Example: First model predictions\n",
        "model_2_preds = y_test + np.random.normal(scale=5, size=len(y_test))  # Simulated second model\n",
        "\n",
        "friedman_stat, friedman_p = friedmanchisquare(y_test, model_1_preds, model_2_preds)\n",
        "print(f\"Friedman Statistic: {friedman_stat:.4f}, P-value: {friedman_p:.4f}\")\n",
        "if friedman_p < 0.05:\n",
        "    print(\"Reject the null hypothesis: Significant differences between conditions.\")\n",
        "else:\n",
        "    print(\"Fail to reject the null hypothesis: No significant differences between conditions.\")\n"
      ],
      "metadata": {
        "colab": {
          "base_uri": "https://localhost:8080/"
        },
        "id": "KtvxxmdnuSdP",
        "outputId": "28647bdf-f8f5-4935-ad31-571d2a976bf3"
      },
      "execution_count": null,
      "outputs": [
        {
          "output_type": "stream",
          "name": "stdout",
          "text": [
            "Friedman Statistic: 135.6877, P-value: 0.0000\n",
            "Reject the null hypothesis: Significant differences between conditions.\n"
          ]
        }
      ]
    }
  ]
}